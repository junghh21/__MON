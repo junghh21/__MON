{
 "cells": [
  {
   "cell_type": "code",
   "execution_count": null,
   "metadata": {},
   "outputs": [
    {
     "name": "stdout",
     "output_type": "stream",
     "text": [
      "{'ok': True, 'result': {'message_id': 6592, 'from': {'id': 7604126584, 'is_bot': True, 'first_name': 'JangoOk', 'username': 'JangoOk_bot'}, 'chat': {'id': 1932486894, 'first_name': '호형', 'last_name': '정', 'type': 'private'}, 'date': 1738558064, 'photo': [{'file_id': 'AgACAgUAAxkDAAIZwGegSnAbm2KjicJG7DBzGeVrPjv-AAIsyjEbMKQBVXiINK2WMIjpAQADAgADcwADNgQ', 'file_unique_id': 'AQADLMoxGzCkAVV4', 'file_size': 940, 'width': 90, 'height': 37}, {'file_id': 'AgACAgUAAxkDAAIZwGegSnAbm2KjicJG7DBzGeVrPjv-AAIsyjEbMKQBVXiINK2WMIjpAQADAgADbQADNgQ', 'file_unique_id': 'AQADLMoxGzCkAVVy', 'file_size': 12959, 'width': 320, 'height': 130}, {'file_id': 'AgACAgUAAxkDAAIZwGegSnAbm2KjicJG7DBzGeVrPjv-AAIsyjEbMKQBVXiINK2WMIjpAQADAgADeAADNgQ', 'file_unique_id': 'AQADLMoxGzCkAVV9', 'file_size': 14135, 'width': 344, 'height': 140}]}}\n"
     ]
    }
   ],
   "source": [
    "\n",
    "# from temp_mon import capture_win_jango_ok\n",
    "\n",
    "# capture_win_jango_ok(\"CORETEMP\", None, 0, 115, 344, 140)"
   ]
  },
  {
   "cell_type": "code",
   "execution_count": null,
   "metadata": {},
   "outputs": [
    {
     "name": "stderr",
     "output_type": "stream",
     "text": [
      "e:\\__PY\\__ENV\\venv_mon\\lib\\site-packages\\urllib3\\connectionpool.py:1097: InsecureRequestWarning: Unverified HTTPS request is being made to host 'localhost'. Adding certificate verification is strongly advised. See: https://urllib3.readthedocs.io/en/latest/advanced-usage.html#tls-warnings\n",
      "  warnings.warn(\n"
     ]
    },
    {
     "name": "stdout",
     "output_type": "stream",
     "text": [
      "{'CpuInfo': {'uiLoad': [8, 14, 4, 9], 'uiTjMax': [0], 'uiCoreCnt': 4, 'uiCPUCnt': 1, 'fTemp': [52.375, 52.375, 52.375, 52.375], 'fVID': 1.55, 'fCPUSpeed': 2974.91748, 'fFSBSpeed': 99.99722, 'fMultiplier': 29.75, 'CPUName': 'AMD Ryzen 5 2400G (Raven Ridge) ', 'ucFahrenheit': 0, 'ucDeltaToTjMax': 0, 'ucTdpSupported': 1, 'ucPowerSupported': 1, 'uiStructVersion': 2, 'uiTdp': [0], 'fPower': [8.445277], 'fMultipliers': [31.25, 31, 30.6875, 29.75]}, 'MemoryInfo': {'TotalPhys': 31693, 'FreePhys': 18951, 'TotalPage': 34525, 'FreePage': 15745, 'TotalVirtual': 134217728, 'FreeVirtual': 134212915, 'FreeExtendedVirtual': 1, 'MemoryLoad': 40}}\n"
     ]
    }
   ],
   "source": [
    "import os, sys, shutil\n",
    "sys.path.append(\"../\")\n",
    "sys.path.append(\"./\")\n",
    "\n",
    "from datetime import datetime\n",
    "import requests\n",
    "from __COMMON.globals import *\n",
    "\n",
    "url_base = f\"https://api.telegram.org/bot{bot_token}/sendmessage\"\n",
    "def send_error_to_telegram(message):\n",
    "\tparams = {'chat_id': chat_id, 'text': datetime.now().strftime(\"%Y-%m-%d %H:%M:%S\") + \" \" + message}\n",
    "\tresponse = requests.get(url_base, params=params)\n",
    "\n",
    "#####################################################\n",
    "url = \"https://localhost:5001/api/temp\"\n",
    "try:\n",
    "\t\tresponse = requests.get(url, timeout=5, verify=False)\n",
    "\t\tresponse.raise_for_status()  # HTTP 오류 발생 시 예외\n",
    "\t\tdata = response.json()\n",
    "\t\tprint(data)\n",
    "\t\tdata['CpuInfo']['fTemp'] = [int(a) for a in data['CpuInfo']['fTemp']]\n",
    "\t\tsend_error_to_telegram(\tf\"\\nTemp.: {str(data['CpuInfo']['fTemp'])}\\n\" \\\n",
    "\t\t\t\t\t\t\t\t\t\t\t\t\t\tf\"Load: {str(data['CpuInfo']['uiLoad'])}\\n\" \\\n",
    "\t\t\t\t\t\t\t\t\t\t\t\t\t\tf\"Mem Use: {data['MemoryInfo']['MemoryLoad']}\")\n",
    "except requests.exceptions.HTTPError as errh:\n",
    "\t\tprint(\"HTTP 오류:\", errh)\n",
    "except requests.exceptions.ConnectionError as errc:\n",
    "\t\tprint(\"연결 오류:\", errc)\n",
    "except requests.exceptions.Timeout as errt:\n",
    "\t\tprint(\"타임아웃:\", errt)\n",
    "except requests.exceptions.RequestException as err:\n",
    "\t\tprint(\"요청 오류:\", err)"
   ]
  },
  {
   "cell_type": "code",
   "execution_count": 4,
   "metadata": {},
   "outputs": [
    {
     "name": "stdout",
     "output_type": "stream",
     "text": [
      "Looking in indexes: https://pypi.org/simple, https://pypi.ngc.nvidia.com\n",
      "Collecting schedule\n",
      "  Downloading schedule-1.2.2-py3-none-any.whl (12 kB)\n",
      "Installing collected packages: schedule\n",
      "Successfully installed schedule-1.2.2\n",
      "Note: you may need to restart the kernel to use updated packages.\n"
     ]
    },
    {
     "name": "stderr",
     "output_type": "stream",
     "text": [
      "\n",
      "[notice] A new release of pip is available: 23.0.1 -> 25.0\n",
      "[notice] To update, run: python.exe -m pip install --upgrade pip\n"
     ]
    }
   ],
   "source": [
    "\n",
    "%pip install schedule\n"
   ]
  }
 ],
 "metadata": {
  "kernelspec": {
   "display_name": "venv_mon (3.10.11)",
   "language": "python",
   "name": "python3"
  },
  "language_info": {
   "codemirror_mode": {
    "name": "ipython",
    "version": 3
   },
   "file_extension": ".py",
   "mimetype": "text/x-python",
   "name": "python",
   "nbconvert_exporter": "python",
   "pygments_lexer": "ipython3",
   "version": "3.10.11"
  }
 },
 "nbformat": 4,
 "nbformat_minor": 2
}
