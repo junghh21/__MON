{
 "cells": [
  {
   "cell_type": "code",
   "execution_count": 5,
   "metadata": {},
   "outputs": [
    {
     "name": "stdout",
     "output_type": "stream",
     "text": [
      "{'ok': True, 'result': {'message_id': 6592, 'from': {'id': 7604126584, 'is_bot': True, 'first_name': 'JangoOk', 'username': 'JangoOk_bot'}, 'chat': {'id': 1932486894, 'first_name': '호형', 'last_name': '정', 'type': 'private'}, 'date': 1738558064, 'photo': [{'file_id': 'AgACAgUAAxkDAAIZwGegSnAbm2KjicJG7DBzGeVrPjv-AAIsyjEbMKQBVXiINK2WMIjpAQADAgADcwADNgQ', 'file_unique_id': 'AQADLMoxGzCkAVV4', 'file_size': 940, 'width': 90, 'height': 37}, {'file_id': 'AgACAgUAAxkDAAIZwGegSnAbm2KjicJG7DBzGeVrPjv-AAIsyjEbMKQBVXiINK2WMIjpAQADAgADbQADNgQ', 'file_unique_id': 'AQADLMoxGzCkAVVy', 'file_size': 12959, 'width': 320, 'height': 130}, {'file_id': 'AgACAgUAAxkDAAIZwGegSnAbm2KjicJG7DBzGeVrPjv-AAIsyjEbMKQBVXiINK2WMIjpAQADAgADeAADNgQ', 'file_unique_id': 'AQADLMoxGzCkAVV9', 'file_size': 14135, 'width': 344, 'height': 140}]}}\n"
     ]
    }
   ],
   "source": [
    "\n",
    "from temp_mon import capture_win_jango_ok\n",
    "\n",
    "capture_win_jango_ok(\"CORETEMP\", None, 0, 115, 344, 140)"
   ]
  },
  {
   "cell_type": "code",
   "execution_count": null,
   "metadata": {},
   "outputs": [],
   "source": []
  },
  {
   "cell_type": "code",
   "execution_count": 4,
   "metadata": {},
   "outputs": [
    {
     "name": "stdout",
     "output_type": "stream",
     "text": [
      "Looking in indexes: https://pypi.org/simple, https://pypi.ngc.nvidia.com\n",
      "Collecting schedule\n",
      "  Downloading schedule-1.2.2-py3-none-any.whl (12 kB)\n",
      "Installing collected packages: schedule\n",
      "Successfully installed schedule-1.2.2\n",
      "Note: you may need to restart the kernel to use updated packages.\n"
     ]
    },
    {
     "name": "stderr",
     "output_type": "stream",
     "text": [
      "\n",
      "[notice] A new release of pip is available: 23.0.1 -> 25.0\n",
      "[notice] To update, run: python.exe -m pip install --upgrade pip\n"
     ]
    }
   ],
   "source": [
    "\n",
    "%pip install schedule\n"
   ]
  }
 ],
 "metadata": {
  "kernelspec": {
   "display_name": "venv_mon",
   "language": "python",
   "name": "python3"
  },
  "language_info": {
   "codemirror_mode": {
    "name": "ipython",
    "version": 3
   },
   "file_extension": ".py",
   "mimetype": "text/x-python",
   "name": "python",
   "nbconvert_exporter": "python",
   "pygments_lexer": "ipython3",
   "version": "3.10.11"
  }
 },
 "nbformat": 4,
 "nbformat_minor": 2
}
